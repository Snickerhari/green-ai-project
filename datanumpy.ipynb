{
 "cells": [
  {
   "cell_type": "code",
   "execution_count": 15,
   "id": "9514ce66-fda5-416a-917a-7cc91cf7bfe8",
   "metadata": {},
   "outputs": [
    {
     "name": "stdout",
     "output_type": "stream",
     "text": [
      "Requirement already satisfied: numpy in c:\\users\\student\\anaconda3\\lib\\site-packages (1.26.4)\n",
      "Note: you may need to restart the kernel to use updated packages.\n"
     ]
    }
   ],
   "source": [
    "pip install numpy"
   ]
  },
  {
   "cell_type": "code",
   "execution_count": 17,
   "id": "6bf40b96-11d9-44b7-ba2d-7a4a26698c71",
   "metadata": {},
   "outputs": [],
   "source": [
    "import numpy as np"
   ]
  },
  {
   "cell_type": "code",
   "execution_count": 44,
   "id": "e4ab26f4-cb98-44e4-a5ad-41f7ec303229",
   "metadata": {},
   "outputs": [
    {
     "name": "stdout",
     "output_type": "stream",
     "text": [
      "list [1, 2, 3]\n",
      "<class 'list'>\n",
      "number array: [1 2 3]\n",
      "<class 'numpy.ndarray'>\n"
     ]
    }
   ],
   "source": [
    "l=[1,2,3]\n",
    "print(\"list\",l)\n",
    "print(type(l))\n",
    "one_d_array = np.array(l)\n",
    "print(\"number array:\",one_d_array)\n",
    "print(type(one_d_array))"
   ]
  },
  {
   "cell_type": "code",
   "execution_count": 46,
   "id": "d8f69f4c-8518-4447-9d53-5220d511e71e",
   "metadata": {},
   "outputs": [
    {
     "name": "stdout",
     "output_type": "stream",
     "text": [
      "list ([1, 2], [3, 4])\n",
      "<class 'tuple'>\n",
      "number array: [[1 2]\n",
      " [3 4]]\n",
      "<class 'numpy.ndarray'>\n"
     ]
    }
   ],
   "source": [
    "l=[1,2],[3,4]\n",
    "print(\"list\",l)\n",
    "print(type(l))\n",
    "two_d_array = np.array(l)\n",
    "print(\"number array:\",two_d_array)\n",
    "print(type(two_d_array))"
   ]
  },
  {
   "cell_type": "code",
   "execution_count": 48,
   "id": "54e72c5c-1ae4-4e20-bb28-fa221d9eb3f6",
   "metadata": {},
   "outputs": [
    {
     "name": "stdout",
     "output_type": "stream",
     "text": [
      "<class 'list'>\n",
      "[[[1 2]\n",
      "  [3 4]]\n",
      "\n",
      " [[5 6]\n",
      "  [7 8]]]\n",
      "<class 'numpy.ndarray'>\n"
     ]
    }
   ],
   "source": [
    "l=[[[1,2],[3,4]],[[5,6],[7,8]]]\n",
    "print(type(l))\n",
    "three_d_array = np.array(l)\n",
    "print(three_d_array)\n",
    "print(type(three_d_array))"
   ]
  },
  {
   "cell_type": "code",
   "execution_count": 9,
   "id": "d49e626d-4b32-4ca9-aee8-4286f9cbe27f",
   "metadata": {},
   "outputs": [
    {
     "ename": "NameError",
     "evalue": "name 'one_d_array' is not defined",
     "output_type": "error",
     "traceback": [
      "\u001b[1;31m---------------------------------------------------------------------------\u001b[0m",
      "\u001b[1;31mNameError\u001b[0m                                 Traceback (most recent call last)",
      "Cell \u001b[1;32mIn[9], line 1\u001b[0m\n\u001b[1;32m----> 1\u001b[0m \u001b[38;5;28mprint\u001b[39m(\u001b[38;5;124m\"\u001b[39m\u001b[38;5;124mone d array dimension\u001b[39m\u001b[38;5;124m\"\u001b[39m,one_d_array\u001b[38;5;241m.\u001b[39mndim)\n\u001b[0;32m      2\u001b[0m \u001b[38;5;28mprint\u001b[39m(\u001b[38;5;124m\"\u001b[39m\u001b[38;5;124mone d array dimension\u001b[39m\u001b[38;5;124m\"\u001b[39m,one_d_array\u001b[38;5;241m.\u001b[39msize)\n\u001b[0;32m      3\u001b[0m \u001b[38;5;28mprint\u001b[39m(\u001b[38;5;124m\"\u001b[39m\u001b[38;5;124mone d array dimension\u001b[39m\u001b[38;5;124m\"\u001b[39m,one_d_array\u001b[38;5;241m.\u001b[39mshape)\n",
      "\u001b[1;31mNameError\u001b[0m: name 'one_d_array' is not defined"
     ]
    }
   ],
   "source": [
    "print(\"one d array dimension\",one_d_array.ndim)\n",
    "print(\"one d array dimension\",one_d_array.size)\n",
    "print(\"one d array dimension\",one_d_array.shape)\n",
    "print(\"two d array dimension\",two_d_array.ndim)  \n",
    "print(\"two d array dimension\",two_d_array.size)\n",
    "print(\"two d array dimension\",two_d_array.shape)\n",
    "print(\"three d array dimension\",three_d_array.ndim)  \n",
    "print(\"three d array dimension\",three_d_array.size)\n",
    "print(\"three array dimension\",three_d_array.shape)"
   ]
  },
  {
   "cell_type": "code",
   "execution_count": 5,
   "id": "3f917c1c-052c-48cf-b455-7ce2a6548c74",
   "metadata": {},
   "outputs": [
    {
     "name": "stdout",
     "output_type": "stream",
     "text": [
      "memory cons by an element 28\n",
      "Total Memory usage 280\n"
     ]
    }
   ],
   "source": [
    "import sys\n",
    "sample_list = [0,1,2,3,4,5,6,7,8,9]\n",
    "print(\"memory cons by an element\",sys.getsizeof(sample_list[0]))\n",
    "print(\"Total Memory usage\",(sys.getsizeof(sample_list[0]))*len(sample_list))"
   ]
  },
  {
   "cell_type": "code",
   "execution_count": 64,
   "id": "080c5697-a19f-41e0-8e69-b20ef0c74451",
   "metadata": {},
   "outputs": [
    {
     "name": "stdout",
     "output_type": "stream",
     "text": [
      "memory cons by an element 4\n",
      "Total Memory usage 40\n"
     ]
    }
   ],
   "source": [
    "numpy_array=np.array([0,1,2,3,4,5,6,7,8,9])\n",
    "sample_list = [0,1,2,3,4,5,6,7,8,9]\n",
    "print(\"memory cons by an element\", numpy_array.itemsize)\n",
    "print(\"Total Memory usage\",numpy_array.itemsize*numpy_array.size)"
   ]
  },
  {
   "cell_type": "code",
   "execution_count": null,
   "id": "fb732c91-4d29-416b-9d3a-e5b590ae5342",
   "metadata": {},
   "outputs": [],
   "source": []
  }
 ],
 "metadata": {
  "kernelspec": {
   "display_name": "Python [conda env:base] *",
   "language": "python",
   "name": "conda-base-py"
  },
  "language_info": {
   "codemirror_mode": {
    "name": "ipython",
    "version": 3
   },
   "file_extension": ".py",
   "mimetype": "text/x-python",
   "name": "python",
   "nbconvert_exporter": "python",
   "pygments_lexer": "ipython3",
   "version": "3.12.7"
  }
 },
 "nbformat": 4,
 "nbformat_minor": 5
}
