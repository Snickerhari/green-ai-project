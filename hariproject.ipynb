{
 "cells": [
  {
   "cell_type": "code",
   "execution_count": 28,
   "id": "b6e8ec78-6e7e-4e03-a8f3-03ddc30ecb49",
   "metadata": {},
   "outputs": [
    {
     "name": "stdin",
     "output_type": "stream",
     "text": [
      "enter a number 11234\n"
     ]
    },
    {
     "name": "stdout",
     "output_type": "stream",
     "text": [
      "products of digits: 24\n"
     ]
    }
   ],
   "source": [
    "#product of using while loop\n",
    "n=int(input(\"enter a number\"))\n",
    "s=1\n",
    "while(n>0):\n",
    "    digit=n%10\n",
    "    s=s*digit\n",
    "    n=n//10\n",
    "print(\"products of digits:\",s) "
   ]
  },
  {
   "cell_type": "code",
   "execution_count": 26,
   "id": "635a6847-0aea-4022-8e34-ec27b6e1f2ef",
   "metadata": {},
   "outputs": [
    {
     "name": "stdin",
     "output_type": "stream",
     "text": [
      "enter a number 1234\n"
     ]
    },
    {
     "name": "stdout",
     "output_type": "stream",
     "text": [
      "24\n"
     ]
    }
   ],
   "source": [
    "#product of usingfor loop\n",
    "num=(input(\"enter a number\"))\n",
    "s=1\n",
    "for i in num:\n",
    "    s=s*int(i)\n",
    "print(s) "
   ]
  },
  {
   "cell_type": "code",
   "execution_count": 30,
   "id": "d8edb8f7-7b6c-452e-93fd-5679ca55d3bc",
   "metadata": {},
   "outputs": [
    {
     "name": "stdin",
     "output_type": "stream",
     "text": [
      "enter a number 1234\n"
     ]
    },
    {
     "name": "stdout",
     "output_type": "stream",
     "text": [
      "products of digits: 10\n"
     ]
    }
   ],
   "source": [
    "#sum of the digit\n",
    "n=int(input(\"enter a number\"))\n",
    "s=0\n",
    "while(n>0):\n",
    "    digit=n%10\n",
    "    s=s+digit\n",
    "    n=n//10\n",
    "print(\"products of digits:\",s) "
   ]
  },
  {
   "cell_type": "code",
   "execution_count": 44,
   "id": "4661ba2e-9a13-4e5e-84b1-211f5856b44d",
   "metadata": {},
   "outputs": [
    {
     "name": "stdin",
     "output_type": "stream",
     "text": [
      "enter a number 76\n"
     ]
    },
    {
     "name": "stdout",
     "output_type": "stream",
     "text": [
      "even number\n"
     ]
    }
   ],
   "source": [
    "#find the even number and odd number \n",
    "a=int(input(\"enter a number\"))\n",
    "if a %2==0:\n",
    "   print(\"even number\")\n",
    "else:\n",
    "    print(\"odd number\")"
   ]
  },
  {
   "cell_type": "code",
   "execution_count": 42,
   "id": "64e0048b-8b67-4e33-922b-070f58cc2760",
   "metadata": {},
   "outputs": [
    {
     "name": "stdout",
     "output_type": "stream",
     "text": [
      "sum 625\n"
     ]
    }
   ],
   "source": [
    "#find sum of all odd number between 1 and 15 using for loop\n",
    "p=0\n",
    "for i in range(1,51,2):\n",
    "   p=p+i\n",
    "print(\"sum\",p)\n",
    "   \n",
    "    "
   ]
  },
  {
   "cell_type": "code",
   "execution_count": 50,
   "id": "2b0ee952-ed65-495e-af2b-7e19fe1f4c84",
   "metadata": {},
   "outputs": [
    {
     "name": "stdout",
     "output_type": "stream",
     "text": [
      "sum 600\n"
     ]
    }
   ],
   "source": [
    "#find sum of all even number between 1 and 15 using for loop\n",
    "p=0\n",
    "for i in range(1,50):\n",
    "    if i%2==0:\n",
    "        p+=i\n",
    "print(\"sum\",p)\n",
    "   "
   ]
  },
  {
   "cell_type": "code",
   "execution_count": 7,
   "id": "d3a33d12-ffe0-407e-9b91-7a535376f3ad",
   "metadata": {},
   "outputs": [
    {
     "name": "stdin",
     "output_type": "stream",
     "text": [
      "enter the number 5\n"
     ]
    },
    {
     "name": "stdout",
     "output_type": "stream",
     "text": [
      "sum 10\n"
     ]
    }
   ],
   "source": [
    "#find the sum of natural number\n",
    "n=int(input(\"enter the number\"))\n",
    "s=0\n",
    "for i in range (0, n):\n",
    "    s=s+i\n",
    "print(\"sum\",s)\n"
   ]
  },
  {
   "cell_type": "code",
   "execution_count": 17,
   "id": "67163cd5-ed52-43bc-a668-ea785a8cc160",
   "metadata": {},
   "outputs": [
    {
     "name": "stdin",
     "output_type": "stream",
     "text": [
      "enter the number 765\n"
     ]
    },
    {
     "name": "stdout",
     "output_type": "stream",
     "text": [
      "567\n"
     ]
    }
   ],
   "source": [
    "#program to reverse a number using while loop \n",
    "n=int (input(\"enter the number\"))\n",
    "rev=0\n",
    "while(n>0):\n",
    "   r=n%10\n",
    "   rev=rev*10+r\n",
    "   n=n//10\n",
    "print(rev)"
   ]
  },
  {
   "cell_type": "code",
   "execution_count": 1,
   "id": "acc43f98-a8b0-4b1e-9afc-2d2091c8eab0",
   "metadata": {},
   "outputs": [
    {
     "name": "stdin",
     "output_type": "stream",
     "text": [
      "enter the number 5\n"
     ]
    },
    {
     "name": "stdout",
     "output_type": "stream",
     "text": [
      "120\n"
     ]
    }
   ],
   "source": [
    "#write a python program to find the factorial of given number\n",
    "num= int(input(\"enter the number\"))\n",
    "factorial=1\n",
    "\n",
    "for i in range(1,num+1):\n",
    "    factorial*=i\n",
    "\n",
    "print(factorial)"
   ]
  },
  {
   "cell_type": "code",
   "execution_count": 11,
   "id": "6aa582b0-f91d-48ff-9eee-bdfec2818f77",
   "metadata": {},
   "outputs": [
    {
     "name": "stdin",
     "output_type": "stream",
     "text": [
      "enter a number: 90\n"
     ]
    },
    {
     "name": "stdout",
     "output_type": "stream",
     "text": [
      "[1, 2, 3, 4, 5, 6, 7, 8, 9, 10, 11, 12, 13, 14, 15, 16, 17, 18, 19, 20, 21, 22, 23, 24, 25, 26, 27, 28, 29, 30, 31, 32, 33, 34, 35, 36, 37, 38, 39, 40, 41, 42, 43, 44, 45, 46, 47, 48, 49, 50, 51, 52, 53, 54, 55, 56, 57, 58, 59, 60, 61, 62, 63, 64, 65, 66, 67, 68, 69, 70, 71, 72, 73, 74, 75, 76, 77, 78, 79, 80, 81, 82, 83, 84, 85, 86, 87, 88, 89, 90]\n"
     ]
    }
   ],
   "source": [
    "def factors(n):\n",
    "    factorlist = []\n",
    "    for i in range(1,n+1):\n",
    "        if n%1 == 0:\n",
    "            factorlist.append(i)\n",
    "    return(factorlist)\n",
    "n =int(input(\"enter a number:\"))\n",
    "print(factors(n))\n"
   ]
  },
  {
   "cell_type": "code",
   "execution_count": null,
   "id": "f7e574aa-bdbd-42d7-b63c-ab2874ad3051",
   "metadata": {},
   "outputs": [],
   "source": [
    "def prime(n):\n",
    "    return(factors(n)== [1,n])\n",
    "    "
   ]
  }
 ],
 "metadata": {
  "kernelspec": {
   "display_name": "Python [conda env:base] *",
   "language": "python",
   "name": "conda-base-py"
  },
  "language_info": {
   "codemirror_mode": {
    "name": "ipython",
    "version": 3
   },
   "file_extension": ".py",
   "mimetype": "text/x-python",
   "name": "python",
   "nbconvert_exporter": "python",
   "pygments_lexer": "ipython3",
   "version": "3.12.7"
  }
 },
 "nbformat": 4,
 "nbformat_minor": 5
}
